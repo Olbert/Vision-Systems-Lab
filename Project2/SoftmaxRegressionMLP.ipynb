{
 "cells": [
  {
   "cell_type": "markdown",
   "metadata": {},
   "source": [
    "# Assignment 2: CudaVision\n",
    "------\n",
    "### Group Members:\n",
    "__1.__ Saikat Roy\n",
    "\n",
    "__2.__ Albert Gubaidullin\n",
    "\n",
    "## Import Dependencies\n",
    "------"
   ]
  },
  {
   "cell_type": "code",
   "execution_count": 1,
   "metadata": {},
   "outputs": [],
   "source": [
    "import numpy as np\n",
    "\n",
    "import torch\n",
    "import torch.nn as nn\n",
    "from torch.utils.data import dataloader, random_split\n",
    "\n",
    "from torchvision import datasets, transforms\n",
    "\n",
    "import matplotlib.pyplot as plt\n",
    "from sklearn.model_selection import ParameterGrid"
   ]
  },
  {
   "cell_type": "markdown",
   "metadata": {},
   "source": [
    "## Softmax Regression MLP object\n",
    "------\n",
    "The `SoftmaxRegressionMLP` class is a basic object to create a MLP with ReLU hidden units and a linear output unit (argmax(x) is the same as argmax(softmax(x))"
   ]
  },
  {
   "cell_type": "code",
   "execution_count": 2,
   "metadata": {},
   "outputs": [],
   "source": [
    "class SoftmaxRegressionMLP(nn.Module):\n",
    "\n",
    "    def __init__(self, n_input, n_hidden_layers, n_output, h_units):\n",
    "        \"\"\"\n",
    "        Initialization for a simply softmax regression MLP model with ReLU activations in hidden layers\n",
    "        :param n_input (int): Number of input units to network\n",
    "        :param n_hidden_layers (int): Number of hidden layers in network\n",
    "        :param n_output (int): Number of output units of network\n",
    "        :param h_units (int or list): hidden unit count or list of hidden units in each hidden layer of network\n",
    "        \"\"\"\n",
    "        super(SoftmaxRegressionMLP, self).__init__()\n",
    "        self.n_out = n_output\n",
    "\n",
    "        layers = []\n",
    "\n",
    "        def add_layer_and_act(n_inp, n_out, nl_type):\n",
    "            if nl_type is None:\n",
    "                return [nn.Linear(n_inp, n_out)]\n",
    "            return [nn.Linear(n_inp, n_out), self.non_lin(nl_type)]\n",
    "\n",
    "        # Add input layers\n",
    "        if type(h_units) is list:\n",
    "            layers.extend(add_layer_and_act(n_input, h_units[0], 'relu'))\n",
    "        else:\n",
    "            layers.extend(add_layer_and_act(n_input, h_units, 'relu'))\n",
    "\n",
    "        # Add hidden layers\n",
    "        if n_hidden_layers>1:\n",
    "            for i in range(1, n_hidden_layers):\n",
    "                if type(h_units) is list:\n",
    "                    layers.extend(add_layer_and_act(h_units[i-1], h_units[i], 'relu'))\n",
    "                else:\n",
    "                    layers.extend(add_layer_and_act(h_units, h_units, 'relu'))\n",
    "\n",
    "        # Add output layer\n",
    "        if type(h_units) is list:\n",
    "            layers.extend(add_layer_and_act(h_units[-1], self.n_out, None))\n",
    "        else:\n",
    "            layers.extend(add_layer_and_act(h_units, self.n_out, None))\n",
    "\n",
    "        self.block = nn.Sequential(*layers)\n",
    "\n",
    "    def forward(self, x):\n",
    "        \"\"\"\n",
    "        Simple forward pass\n",
    "        :param x:\n",
    "        :return:\n",
    "        \"\"\"\n",
    "        return self.block(x)\n",
    "\n",
    "    def non_lin(self, nl_type='sigmoid'):\n",
    "        \"\"\"\n",
    "        Simply plugs in a predefined non-linearity from a dictionary to be used throughout the network\n",
    "        :param nl_type: type based on predefined types. Defaults to sigmoid on wrong type.\n",
    "        :return:\n",
    "        \"\"\"\n",
    "        nl = {'sigmoid': nn.Sigmoid(), 'relu': nn.ReLU(), 'softmax': nn.Softmax(self.n_out)}\n",
    "        try:\n",
    "            return nl[nl_type]\n",
    "        except:\n",
    "            print(\"non linearity type not found. Defaulting to sigmoid.\")\n",
    "            return"
   ]
  },
  {
   "cell_type": "markdown",
   "metadata": {},
   "source": [
    "## Method for training model in PyTorch\n",
    "------\n",
    "The `train` method takes a dataloader object and trains the model on it for the specified amount of iterations and returns the loss per iteration as a list"
   ]
  },
  {
   "cell_type": "code",
   "execution_count": 43,
   "metadata": {},
   "outputs": [],
   "source": [
    "def train(dataloader, iters = 20, suppress_output=False):\n",
    "    \"\"\"\n",
    "    Trains the model on the given dataloader and returns the loss per epoch\n",
    "    :param dataloader: The autoencoder is trained on the dataloader\n",
    "    :param iters: iterations for training\n",
    "    :return:\n",
    "    \"\"\"\n",
    "\n",
    "    loss_l = []\n",
    "    for itr in range(iters):\n",
    "        av_itr_loss = 0.0\n",
    "        for batch_id, (x, y) in enumerate(dataloader):\n",
    "            optimizer.zero_grad()\n",
    "            # print(x)\n",
    "            x = x.cuda()\n",
    "            y = y.cuda()\n",
    "            # x = (x>0.5).float() * 1\n",
    "            x = x.view(batch_size, -1)\n",
    "            # print(x[0])\n",
    "            preds = model(x)\n",
    "            # print((z==1).sum())\n",
    "            batch_loss = loss(preds, y)\n",
    "            batch_loss.backward()\n",
    "            optimizer.step()\n",
    "            av_itr_loss += (1/batch_size)*batch_loss.item()\n",
    "        loss_l.append(av_itr_loss)\n",
    "        if not suppress_output:\n",
    "            print(\"Epoch {}: Loss={}\".format(itr, av_itr_loss))\n",
    "    return loss_l\n"
   ]
  },
  {
   "cell_type": "markdown",
   "metadata": {},
   "source": [
    "## Method for calculating accuracy\n",
    "------\n",
    "The `acc` method simply calculates the predictive accuracy of a model on the given dataloader. It returns the true labels, predicted labels and the accuracy as a float in the range [0,1]"
   ]
  },
  {
   "cell_type": "code",
   "execution_count": 44,
   "metadata": {},
   "outputs": [],
   "source": [
    "def acc(dataloader):\n",
    "    \"\"\"\n",
    "    Calculate accuracy of predictions from model for dataloader.\n",
    "    :param dataloader: dataloader to evaluate\n",
    "    :return:\n",
    "    \"\"\"\n",
    "    acc = 0.0\n",
    "    true_y = []\n",
    "    pred_y = []\n",
    "    total = 0.0\n",
    "    with torch.no_grad():\n",
    "        for batch_id, (x, y) in enumerate(dataloader):\n",
    "            x = x.cuda()\n",
    "            y = y.cuda()\n",
    "            x = x.view(batch_size, -1)\n",
    "            # print(x[0])\n",
    "            preds = model(x)\n",
    "            preds = torch.argmax(preds, dim=1)\n",
    "            acc += ((preds==y).sum().item())\n",
    "            total+= y.size(0)\n",
    "\n",
    "            true_y.extend(list(preds.view(-1).cpu().numpy()))\n",
    "            pred_y.extend(list(y.view(-1).cpu().numpy()))\n",
    "\n",
    "        acc/=total\n",
    "    return true_y, pred_y, acc"
   ]
  },
  {
   "cell_type": "markdown",
   "metadata": {},
   "source": [
    "## Method for plotting confusion matrix\n",
    "------\n",
    "__Please note that this function has been borrowed from the sklearn tutorial regarding the visualization of confusion matrices__. The function has however had minor modification to shorten its outputs and increase the figure size.\n",
    "\n",
    "https://scikit-learn.org/stable/auto_examples/model_selection/plot_confusion_matrix.html"
   ]
  },
  {
   "cell_type": "code",
   "execution_count": 45,
   "metadata": {},
   "outputs": [],
   "source": [
    "from sklearn.metrics import confusion_matrix\n",
    "from sklearn.utils.multiclass import unique_labels\n",
    "\"\"\"\n",
    "THIS CONFUSION MATRIX FUNCTION HAS BEEN BORROWED FROM THE SCIKIT-LEARN TUTORIAL ON GENERATING VISUAL CONFUSION MATRIX\n",
    "PLOTS. REINVENTING THE WHEEL IN THIS CASE SEEMED TO BE EXTREMELY REDUNDANT.\n",
    "\"\"\"\n",
    "\n",
    "def plot_confusion_matrix(y_true, y_pred, classes,\n",
    "                          normalize=False,\n",
    "                          title=None,\n",
    "                          cmap=plt.cm.Blues):\n",
    "    \"\"\"\n",
    "    This function prints and plots the confusion matrix.\n",
    "    Normalization can be applied by setting `normalize=True`.\n",
    "    \"\"\"\n",
    "    if not title:\n",
    "        if normalize:\n",
    "            title = 'Normalized confusion matrix'\n",
    "        else:\n",
    "            title = 'Confusion matrix, without normalization'\n",
    "\n",
    "    # Compute confusion matrix\n",
    "    cm = confusion_matrix(y_true, y_pred)\n",
    "    # Only use the labels that appear in the data\n",
    "#     print(unique_labels(y_true, y_pred))\n",
    "#     classes = classes[unique_labels(y_true, y_pred)]\n",
    "    if normalize:\n",
    "        cm = cm.astype('float') / cm.sum(axis=1)[:, np.newaxis]\n",
    "        print(\"Normalized confusion matrix\")\n",
    "    else:\n",
    "        print('Confusion matrix, without normalization')\n",
    "\n",
    "#   print(cm)\n",
    "\n",
    "    fig, ax = plt.subplots()\n",
    "    im = ax.imshow(cm, interpolation='nearest', cmap=cmap)\n",
    "    ax.figure.colorbar(im, ax=ax)\n",
    "    # We want to show all ticks...\n",
    "    ax.set(xticks=np.arange(cm.shape[1]),\n",
    "           yticks=np.arange(cm.shape[0]),\n",
    "           # ... and label them with the respective list entries\n",
    "           xticklabels=classes, yticklabels=classes,\n",
    "           title=title,\n",
    "           ylabel='True label',\n",
    "           xlabel='Predicted label')\n",
    "\n",
    "    # Rotate the tick labels and set their alignment.\n",
    "    plt.setp(ax.get_xticklabels(), rotation=45, ha=\"right\",\n",
    "             rotation_mode=\"anchor\")\n",
    "    \n",
    "    # Resize the subplots\n",
    "    plt.subplots_adjust(left=0.0, right=1.0, bottom=0.0, top=1.0)\n",
    "\n",
    "    # Loop over data dimensions and create text annotations.\n",
    "    fmt = '.2f' if normalize else 'd'\n",
    "    thresh = cm.max() / 2.\n",
    "    for i in range(cm.shape[0]):\n",
    "        for j in range(cm.shape[1]):\n",
    "            ax.text(j, i, format(cm[i, j], fmt),\n",
    "                    ha=\"center\", va=\"center\",\n",
    "                    color=\"white\" if cm[i, j] > thresh else \"black\")\n",
    "#     fig.tight_layout()\n",
    "    return ax"
   ]
  },
  {
   "cell_type": "markdown",
   "metadata": {},
   "source": [
    "## Initializing Models, Hyperparameters and Datasets\n",
    "-------\n",
    "The Models, Dataloaders and some training hyperparameters are initialized. The neural network architecture used is __3072-128-128-10__."
   ]
  },
  {
   "cell_type": "code",
   "execution_count": 49,
   "metadata": {},
   "outputs": [
    {
     "name": "stdout",
     "output_type": "stream",
     "text": [
      "SoftmaxRegressionMLP(\n",
      "  (block): Sequential(\n",
      "    (0): Linear(in_features=3072, out_features=128, bias=True)\n",
      "    (1): ReLU()\n",
      "    (2): Linear(in_features=128, out_features=128, bias=True)\n",
      "    (3): ReLU()\n",
      "    (4): Linear(in_features=128, out_features=10, bias=True)\n",
      "  )\n",
      ")\n",
      "Files already downloaded and verified\n",
      "Files already downloaded and verified\n"
     ]
    }
   ],
   "source": [
    "    batch_size = 64\n",
    "    n_itr = 50\n",
    "    lr = 0.01\n",
    "\n",
    "    model = SoftmaxRegressionMLP(1024*3, 2, 10, 128).cuda()\n",
    "    print(model)\n",
    "\n",
    "    transform_list = transforms.Compose([#transforms.Grayscale(),\n",
    "                                         transforms.ToTensor()])\n",
    "    trainset = datasets.CIFAR10('./data', train=True, download=True, transform=transform_list)\n",
    "    testset = datasets.CIFAR10('./data', train=False, download=True, transform=transform_list)\n",
    "\n",
    "    train_dataloader = torch.utils.data.DataLoader(trainset, batch_size=batch_size, shuffle=True, drop_last=True)\n",
    "    test_dataloader  = torch.utils.data.DataLoader(testset,  batch_size=batch_size, shuffle=False, drop_last=True)"
   ]
  },
  {
   "cell_type": "markdown",
   "metadata": {},
   "source": [
    "## Training the model\n",
    "------\n",
    "The model is trained using `SGD` and `CrossEntropy` Loss. "
   ]
  },
  {
   "cell_type": "code",
   "execution_count": 50,
   "metadata": {},
   "outputs": [
    {
     "name": "stdout",
     "output_type": "stream",
     "text": [
      "\n",
      "Training on Cross Entropy Loss:\n",
      "Epoch 0: Loss=23.07614135183394\n",
      "Epoch 1: Loss=20.590666675940156\n",
      "Epoch 2: Loss=19.601702466607094\n",
      "Epoch 3: Loss=18.957581259310246\n",
      "Epoch 4: Loss=18.344603531062603\n",
      "Epoch 5: Loss=18.00105607137084\n",
      "Epoch 6: Loss=17.60221173427999\n",
      "Epoch 7: Loss=17.26150164939463\n",
      "Epoch 8: Loss=17.034407563507557\n",
      "Epoch 9: Loss=16.781784594990313\n",
      "Epoch 10: Loss=16.485002517700195\n",
      "Epoch 11: Loss=16.17850120086223\n",
      "Epoch 12: Loss=16.047695946879685\n",
      "Epoch 13: Loss=15.85420316644013\n",
      "Epoch 14: Loss=15.576063729822636\n",
      "Epoch 15: Loss=15.377803176641464\n",
      "Epoch 16: Loss=15.247486769221723\n",
      "Epoch 17: Loss=15.186762042343616\n",
      "Epoch 18: Loss=14.925677450373769\n",
      "Epoch 19: Loss=14.787217980250716\n",
      "Epoch 20: Loss=14.717392784543335\n",
      "Epoch 21: Loss=14.5908721126616\n",
      "Epoch 22: Loss=14.379273660480976\n",
      "Epoch 23: Loss=14.321690091863275\n",
      "Epoch 24: Loss=14.235830928198993\n",
      "Epoch 25: Loss=14.002429158426821\n",
      "Epoch 26: Loss=13.885597644373775\n",
      "Epoch 27: Loss=13.774763474240899\n",
      "Epoch 28: Loss=13.67004238255322\n",
      "Epoch 29: Loss=13.563974781893194\n",
      "Epoch 30: Loss=13.51789569389075\n",
      "Epoch 31: Loss=13.369990439154208\n",
      "Epoch 32: Loss=13.317461049184203\n",
      "Epoch 33: Loss=13.15032450389117\n",
      "Epoch 34: Loss=13.090280468575656\n",
      "Epoch 35: Loss=13.075789116322994\n",
      "Epoch 36: Loss=12.987080438993871\n",
      "Epoch 37: Loss=12.885904690250754\n",
      "Epoch 38: Loss=12.760373400524259\n",
      "Epoch 39: Loss=12.623359924182296\n",
      "Epoch 40: Loss=12.565493260510266\n",
      "Epoch 41: Loss=12.580304724164307\n",
      "Epoch 42: Loss=12.37724014930427\n",
      "Epoch 43: Loss=12.338900345377624\n",
      "Epoch 44: Loss=12.246933589689434\n",
      "Epoch 45: Loss=12.121966786682606\n",
      "Epoch 46: Loss=12.087759236805141\n",
      "Epoch 47: Loss=12.052864805795252\n",
      "Epoch 48: Loss=11.930121010169387\n",
      "Epoch 49: Loss=11.828833160921931\n"
     ]
    }
   ],
   "source": [
    "print(\"\\nTraining on Cross Entropy Loss:\")\n",
    "loss_type = \"Cross_Entropy\"\n",
    "model.train()\n",
    "loss = nn.CrossEntropyLoss()\n",
    "optimizer = torch.optim.SGD(model.parameters(), lr=lr, momentum=0.9)\n",
    "loss_list = train(train_dataloader, iters=n_itr)"
   ]
  },
  {
   "cell_type": "markdown",
   "metadata": {},
   "source": [
    "## Plotting the loss\n",
    "------\n",
    "The training loss has been plotted against the number of iterations."
   ]
  },
  {
   "cell_type": "code",
   "execution_count": 51,
   "metadata": {},
   "outputs": [
    {
     "data": {
      "image/png": "[encoded data removed]",
      "text/plain": [
       "<Figure size 432x288 with 1 Axes>"
      ]
     },
     "metadata": {
      "needs_background": "light"
     },
     "output_type": "display_data"
    }
   ],
   "source": [
    "plt.plot(np.linspace(1,n_itr,n_itr),loss_list)\n",
    "plt.xlabel(\"Iterations\")\n",
    "plt.ylabel(\"Loss\")\n",
    "plt.title(\"Loss Vs Iterations\")\n",
    "plt.savefig(\"loss.png\", format='png', transparent=False, pad_inches=0.1)\n",
    "plt.show()"
   ]
  },
  {
   "cell_type": "markdown",
   "metadata": {},
   "source": [
    "## Calculating the accuracy on the Training and Test Sets\n",
    "------\n"
   ]
  },
  {
   "cell_type": "code",
   "execution_count": 52,
   "metadata": {},
   "outputs": [
    {
     "name": "stdout",
     "output_type": "stream",
     "text": [
      "Train Acc=0.6647127080665813\n",
      "Test Acc=0.51171875\n"
     ]
    }
   ],
   "source": [
    "preds, true_labels, train_acc = acc(train_dataloader)\n",
    "print(\"Train Acc={}\".format(train_acc))\n",
    "\n",
    "preds, true_labels, test_acc = acc(test_dataloader)\n",
    "print(\"Test Acc={}\".format(test_acc))"
   ]
  },
  {
   "cell_type": "markdown",
   "metadata": {},
   "source": [
    "## Calculating and Plotting the Confusion Matrix\n",
    "------\n",
    "The confusion matrix for the test set is plotted "
   ]
  },
  {
   "cell_type": "code",
   "execution_count": 53,
   "metadata": {},
   "outputs": [
    {
     "name": "stdout",
     "output_type": "stream",
     "text": [
      "Normalized confusion matrix\n"
     ]
    },
    {
     "data": {
      "image/png": "[encoded data removed]",
      "text/plain": [
       "<Figure size 432x288 with 2 Axes>"
      ]
     },
     "metadata": {
      "needs_background": "light"
     },
     "output_type": "display_data"
    }
   ],
   "source": [
    "conf = plot_confusion_matrix(true_labels, preds, [str(i) for i in range(10)], normalize=True,\\\n",
    "                         title=\"Confusion Matrix: CIFAR-10 (Test)\")"
   ]
  },
  {
   "cell_type": "markdown",
   "metadata": {},
   "source": [
    "## K-Fold (Monte-Carlo) Cross Validation for hyperparameter search\n",
    "------\n",
    "K-Fold (Monte-Carlo) Cross Validation has been used to verify the accuracy on a validation set created by a 80-20 split on the training set. `ParameterGrid` from `sklearn` has been used to generate sets of hyperparameters while the accuracies on a random validation set are used to choose between parameter sets."
   ]
  },
  {
   "cell_type": "code",
   "execution_count": null,
   "metadata": {},
   "outputs": [],
   "source": [
    "parameter_grid = {\"lr\":[0.1, 0.05, 0.01, 0.005, 0.001, 0.0001],\n",
    "                  \"batch_size\": [32, 64, 128]\n",
    "                  }\n",
    "\n",
    "# itr = 2\n",
    "#\n",
    "# parameter_grid = {\"lr\":[0.1],\n",
    "#                   \"batch_size\": [32]\n",
    "#                   }\n",
    "\n",
    "# K-Fold cross validation on learning rate and batch size\n",
    "k_fold = 3\n",
    "\n",
    "best_model = None\n",
    "best_lr = 0\n",
    "best_batch = 0\n",
    "best_acc = 0\n",
    "\n",
    "for p in ParameterGrid(parameter_grid):\n",
    "    lr = p['lr']\n",
    "    batch_size = p['batch_size']\n",
    "    p_acc_valid = 0.0\n",
    "\n",
    "    for k in range(k_fold):\n",
    "        model = SoftmaxRegressionMLP(1024*3, 2, 10, 128).cuda()\n",
    "\n",
    "        train_split, valid_split = random_split(trainset, [ int(len(trainset)*0.8), int(len(trainset)-(len(trainset)*0.8))])\n",
    "        train_dataloader = torch.utils.data.DataLoader(train_split, batch_size=batch_size, shuffle=True,\n",
    "                                                       drop_last=True)\n",
    "        valid_dataloader = torch.utils.data.DataLoader(valid_split, batch_size=batch_size, shuffle=True,\n",
    "                                                       drop_last=True)\n",
    "\n",
    "        model.train()\n",
    "        loss = nn.CrossEntropyLoss()\n",
    "        optimizer = torch.optim.SGD(model.parameters(), lr=lr, momentum=0.9)\n",
    "        _ = train(train_dataloader, iters=n_itr, suppress_output=True)\n",
    "\n",
    "        _, _, valid_acc = acc(valid_dataloader)\n",
    "\n",
    "        p_acc_valid += valid_acc/k_fold\n",
    "\n",
    "    print(\"Batch Size:{}, Learning Rate={}, Acc={}\".format(batch_size, lr, p_acc_valid))\n",
    "    if p_acc_valid>best_acc:\n",
    "        print(\"Best parameters so far. Saved.\")\n",
    "        best_acc = p_acc_valid\n",
    "        best_lr = lr\n",
    "        best_batch = batch_size\n",
    "        best_model = model\n",
    "\n",
    "\n",
    "batch_size = best_batch\n",
    "model = best_model\n",
    "print(\"Best parameters on {}-fold Monte-Carlo Cross Validation on 80-20 split.\\n Batch Size:{}, Learning Rate={} \"\\\n",
    "      .format(k_fold, batch_size, best_lr))\n",
    "\n",
    "# Reinitializing dataloader with best batch size\n",
    "test_dataloader  = torch.utils.data.DataLoader(testset, batch_size=batch_size, shuffle=False, drop_last=True)\n",
    "preds, true, test_acc = acc(test_dataloader)\n",
    "print(\"Accuracy on Test Set={}\".format(test_acc))\n"
   ]
  }
 ],
 "metadata": {
  "kernelspec": {
   "display_name": "Python 3",
   "language": "python",
   "name": "python3"
  },
  "language_info": {
   "codemirror_mode": {
    "name": "ipython",
    "version": 3
   },
   "file_extension": ".py",
   "mimetype": "text/x-python",
   "name": "python",
   "nbconvert_exporter": "python",
   "pygments_lexer": "ipython3",
   "version": "3.7.2"
  }
 },
 "nbformat": 4,
 "nbformat_minor": 2
}
